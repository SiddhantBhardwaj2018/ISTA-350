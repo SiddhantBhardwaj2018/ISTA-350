{
 "cells": [
  {
   "cell_type": "code",
   "execution_count": 5,
   "metadata": {},
   "outputs": [],
   "source": [
    "import pandas as pd\n",
    "def sum_rows(df,string = \"\"):\n",
    "    if not string:\n",
    "        return sum(df.sum())\n",
    "    total = 0\n",
    "    for i in df.index:\n",
    "        if string in i:\n",
    "            total += sum(df.loc[i,:])\n",
    "    return total"
   ]
  },
  {
   "cell_type": "code",
   "execution_count": 6,
   "metadata": {},
   "outputs": [
    {
     "name": "stdout",
     "output_type": "stream",
     "text": [
      "Should be 33: 33\n",
      "Should be 0: 0\n",
      "Should be 6: 6\n",
      "Should be 27: 27\n"
     ]
    }
   ],
   "source": [
    "df = pd.DataFrame([[1, 2, 3], [2, 4, 5], [3, 5, 8]])\n",
    "df.index = ['one', 'two', 'three']\n",
    "print('Should be 33:', sum_rows(df))\n",
    "print('Should be 0:', sum_rows(df, 'four'))\n",
    "print('Should be 6:', sum_rows(df, 'on'))\n",
    "print('Should be 27:', sum_rows(df, 't'))"
   ]
  },
  {
   "cell_type": "code",
   "execution_count": 7,
   "metadata": {},
   "outputs": [],
   "source": [
    "def bubble_sort(lst):\n",
    "    n = len(lst)\n",
    "    for i in range(1,n):\n",
    "        for j in range(0,n - 1):\n",
    "            key = lst[j + 1]\n",
    "            if lst[j] > lst[j + 1]:\n",
    "                lst[j + 1] = lst[j]\n",
    "                lst[j] = key\n",
    "    return lst"
   ]
  },
  {
   "cell_type": "code",
   "execution_count": 8,
   "metadata": {},
   "outputs": [
    {
     "data": {
      "text/plain": [
       "[1, 3, 4, 5, 6, 7, 8]"
      ]
     },
     "execution_count": 8,
     "metadata": {},
     "output_type": "execute_result"
    }
   ],
   "source": [
    "bubble_sort([7,4,5,1,3,8,6])"
   ]
  },
  {
   "cell_type": "code",
   "execution_count": 9,
   "metadata": {},
   "outputs": [],
   "source": [
    "class Node:\n",
    "    def __init__(self,datum):\n",
    "        self.datum = datum\n",
    "        self.children = []\n",
    "    \n",
    "    def get_child(self,datum = None):\n",
    "        for child in self.children:\n",
    "            if child.datum == datum:\n",
    "                return child"
   ]
  },
  {
   "cell_type": "code",
   "execution_count": 14,
   "metadata": {},
   "outputs": [],
   "source": [
    "def wird():\n",
    "    print('1')"
   ]
  },
  {
   "cell_type": "code",
   "execution_count": 12,
   "metadata": {},
   "outputs": [
    {
     "name": "stdout",
     "output_type": "stream",
     "text": [
      "1\n"
     ]
    },
    {
     "data": {
      "text/plain": [
       "NoneType"
      ]
     },
     "execution_count": 12,
     "metadata": {},
     "output_type": "execute_result"
    }
   ],
   "source": [
    "type(wird())"
   ]
  },
  {
   "cell_type": "code",
   "execution_count": 15,
   "metadata": {},
   "outputs": [],
   "source": [
    "def factorial(n):\n",
    "    if n == 0 or n == 1:\n",
    "        return 1\n",
    "    else:\n",
    "        return n * factorial(n - 1)"
   ]
  },
  {
   "cell_type": "code",
   "execution_count": 17,
   "metadata": {},
   "outputs": [
    {
     "data": {
      "text/plain": [
       "720"
      ]
     },
     "execution_count": 17,
     "metadata": {},
     "output_type": "execute_result"
    }
   ],
   "source": [
    "factorial(6)"
   ]
  },
  {
   "cell_type": "code",
   "execution_count": 18,
   "metadata": {},
   "outputs": [],
   "source": [
    "def factorial_iter(n):\n",
    "    total = 1\n",
    "    for i in range(1,n+1):\n",
    "        total *= i\n",
    "    return total"
   ]
  },
  {
   "cell_type": "code",
   "execution_count": 19,
   "metadata": {},
   "outputs": [
    {
     "data": {
      "text/plain": [
       "720"
      ]
     },
     "execution_count": 19,
     "metadata": {},
     "output_type": "execute_result"
    }
   ],
   "source": [
    "factorial_iter(6)"
   ]
  },
  {
   "cell_type": "code",
   "execution_count": 22,
   "metadata": {},
   "outputs": [],
   "source": [
    "def fibonacci(n):\n",
    "    if n == 0:\n",
    "        return 0\n",
    "    elif n == 1:\n",
    "        return 1\n",
    "    else:\n",
    "        return fibonacci(n - 1) + fibonacci(n - 2)"
   ]
  },
  {
   "cell_type": "code",
   "execution_count": 26,
   "metadata": {},
   "outputs": [
    {
     "data": {
      "text/plain": [
       "89"
      ]
     },
     "execution_count": 26,
     "metadata": {},
     "output_type": "execute_result"
    }
   ],
   "source": [
    "fibonacci(11)"
   ]
  },
  {
   "cell_type": "code",
   "execution_count": 43,
   "metadata": {},
   "outputs": [],
   "source": [
    "import numpy as np\n",
    "def transpose(matrix):\n",
    "    return np.array(matrix).T.tolist()"
   ]
  },
  {
   "cell_type": "code",
   "execution_count": 44,
   "metadata": {},
   "outputs": [
    {
     "data": {
      "text/plain": [
       "[[1, 4, 7], [2, 5, 8], [3, 6, 9]]"
      ]
     },
     "execution_count": 44,
     "metadata": {},
     "output_type": "execute_result"
    }
   ],
   "source": [
    "transpose([[1,2,3],[4,5,6],[7,8,9]])"
   ]
  },
  {
   "cell_type": "code",
   "execution_count": 45,
   "metadata": {},
   "outputs": [],
   "source": [
    "def is_identity(matrix):\n",
    "    for i in range(len(matrix)):\n",
    "        for j in range(len(matrix[i])):\n",
    "            if (i == j) and (matrix[i][j] != 1):\n",
    "                return False\n",
    "            if (i != j) and (matrix[i][j] != 0):\n",
    "                return False\n",
    "    return True"
   ]
  },
  {
   "cell_type": "code",
   "execution_count": 49,
   "metadata": {},
   "outputs": [
    {
     "data": {
      "text/plain": [
       "True"
      ]
     },
     "execution_count": 49,
     "metadata": {},
     "output_type": "execute_result"
    }
   ],
   "source": [
    "is_identity([[1,0],[0,1]])"
   ]
  },
  {
   "cell_type": "code",
   "execution_count": 58,
   "metadata": {},
   "outputs": [],
   "source": [
    "class MessageLog:\n",
    "    def __init__(self,lst = None):\n",
    "        if not lst:\n",
    "            self.list_str = []\n",
    "        self.list_str = lst\n",
    "        \n",
    "    def add_message(self,string):\n",
    "        self.list_str.append(string)\n",
    "        \n",
    "    def __add__(self,string):\n",
    "        self.list_str.append(string)\n",
    "        \n",
    "    def __repr__(self):\n",
    "        result = 'Messages\\n' + '-' * 8 + '\\n'\n",
    "        for message in self.list_str:\n",
    "            result += message + '\\n'\n",
    "        return result"
   ]
  },
  {
   "cell_type": "code",
   "execution_count": 59,
   "metadata": {},
   "outputs": [],
   "source": [
    "mlog = MessageLog(['one', 'two'])"
   ]
  },
  {
   "cell_type": "code",
   "execution_count": 60,
   "metadata": {},
   "outputs": [
    {
     "data": {
      "text/plain": [
       "Messages\n",
       "--------\n",
       "one\n",
       "two"
      ]
     },
     "execution_count": 60,
     "metadata": {},
     "output_type": "execute_result"
    }
   ],
   "source": [
    "mlog"
   ]
  },
  {
   "cell_type": "code",
   "execution_count": 61,
   "metadata": {},
   "outputs": [],
   "source": [
    "import math,functools"
   ]
  },
  {
   "cell_type": "code",
   "execution_count": 62,
   "metadata": {},
   "outputs": [],
   "source": [
    "@functools.total_ordering\n",
    "class Polygon:\n",
    "    def __init__(self,sides = None,area = None):\n",
    "        if not sides:\n",
    "            self.sides = int(input('Enter number of sides: '))\n",
    "        else:\n",
    "            self.sides = sides\n",
    "        if not area:\n",
    "            self.area = int(input('Enter area: '))\n",
    "        else:\n",
    "            self.area = area\n",
    "    @classmethod       \n",
    "    def from_sidelen(cls,num_sides,length):\n",
    "        area = ((length ** 2) * num_sides) / 4 * math.tan(math.pi / num_sides)\n",
    "        return cls(num_sides,area)\n",
    "    \n",
    "    def __add__(self,other):\n",
    "        return Polygon(self.sides + other.sides,self.area + other.area)\n",
    "    \n",
    "    def __eq__(self,other):\n",
    "        return self.sides * self.area == other.sides * other.area\n",
    "    \n",
    "    def __lt__(self,other):\n",
    "        return self.sides * self.area < other.sides * other.area\n",
    "    \n",
    "    def __repr__(self):\n",
    "        return 'Polygon:\\n sides: ' + str(self.sides) + '\\n area: ' + str(self.area) + '\\n'"
   ]
  },
  {
   "cell_type": "code",
   "execution_count": 63,
   "metadata": {},
   "outputs": [
    {
     "data": {
      "text/plain": [
       "Polygon:\n",
       " sides: 3\n",
       " area: 10"
      ]
     },
     "execution_count": 63,
     "metadata": {},
     "output_type": "execute_result"
    }
   ],
   "source": [
    "Polygon(3,10)"
   ]
  },
  {
   "cell_type": "code",
   "execution_count": 66,
   "metadata": {},
   "outputs": [],
   "source": [
    "class Person:\n",
    "    def __init__(self,first = \"\",last = \"\",bday = \"\",email = \"\"):\n",
    "        self.first = first if first else input(\"Enter person's first name: \")\n",
    "        self.last = last if last else input(\"Enter person's last name: \")\n",
    "        self.bday = bday if bday else input(\"Enter person's birthday: \")\n",
    "        self.email = email if email else input(\"Enter person's email: \")\n",
    "        \n",
    "    def __repr__(self):\n",
    "        return self.first + ' ' + self.last + ': ' + self.bday + ', ' + self.email\n",
    "    \n",
    "    @classmethod\n",
    "    def read_person(cls,file_obj):\n",
    "        text = file_obj.readlines()\n",
    "        if len(text) == 0:\n",
    "            return False\n",
    "        first,last,bday,email = text[0],text[1],text[2],text[3]\n",
    "        return Person(first,last,bday,email)\n",
    "\n",
    "    def write_person(self,file_obj):\n",
    "        string = self.first + '\\n' + self.last + '\\n' + self.bday + '\\n' + self.email\n",
    "        file_obj.write(string)"
   ]
  },
  {
   "cell_type": "code",
   "execution_count": 67,
   "metadata": {},
   "outputs": [],
   "source": [
    "class WatchList:\n",
    "    def __init__(self,fname = ''):\n",
    "        d = {'5':[],'10':[],'20':[],'50':[],'100':[]}\n",
    "        with open(fname,'r') as file:\n",
    "            text = file.readlines()\n",
    "            for line in text:\n",
    "                denom = line.split(' ')\n",
    "                if denom[0] in d:\n",
    "                    d[denom[0]] = denom[1]\n",
    "        self.is_sorted = False\n",
    "        "
   ]
  },
  {
   "cell_type": "code",
   "execution_count": 68,
   "metadata": {},
   "outputs": [],
   "source": [
    "class Node:\n",
    "    def __init__(self,datum = None):\n",
    "        self.datum = datum\n",
    "        self.children = []\n",
    "        \n",
    "    "
   ]
  },
  {
   "cell_type": "code",
   "execution_count": null,
   "metadata": {},
   "outputs": [],
   "source": []
  },
  {
   "cell_type": "code",
   "execution_count": null,
   "metadata": {},
   "outputs": [],
   "source": []
  }
 ],
 "metadata": {
  "kernelspec": {
   "display_name": "Python 3",
   "language": "python",
   "name": "python3"
  },
  "language_info": {
   "codemirror_mode": {
    "name": "ipython",
    "version": 3
   },
   "file_extension": ".py",
   "mimetype": "text/x-python",
   "name": "python",
   "nbconvert_exporter": "python",
   "pygments_lexer": "ipython3",
   "version": "3.7.4"
  }
 },
 "nbformat": 4,
 "nbformat_minor": 4
}
