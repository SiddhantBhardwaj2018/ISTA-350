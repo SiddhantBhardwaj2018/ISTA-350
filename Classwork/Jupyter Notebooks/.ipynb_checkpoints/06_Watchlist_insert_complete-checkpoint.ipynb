{
 "cells": [
  {
   "cell_type": "markdown",
   "metadata": {},
   "source": [
    "# `Watchlist insert` Worksheet"
   ]
  },
  {
   "cell_type": "markdown",
   "metadata": {},
   "source": [
    "## Today\n",
    "* Hw1 is now due Thursday at 11:59 pm\n",
    "* Hw2 is due one week from Th 2/13 at 11:59 pm\n",
    "* Worksheet - `Watchlist insert`"
   ]
  },
  {
   "cell_type": "markdown",
   "metadata": {},
   "source": [
    "## Worksheet - hardest part of Hw2"
   ]
  },
  {
   "cell_type": "markdown",
   "metadata": {},
   "source": [
    "First, recall our `Node` class.  Then code up the `insert` methods:\n",
    "\n",
    "`class WatchListLinked:`\n",
    "\n",
    "`init`:  This magic method takes a filename that defaults to the empty string.  Initialize an instance variable called `root` to a node that has 5 children.  The datum in the node should be the None object (let your default arg do the work, don't pass it in).  The data in the 5 children are the 5 denomination strings (i.e. `'5'`, `'10'`, etc.), respectively.  The children have no children of their own.  If a filename was passed in, each line of the file will represent a bill that we want to add to our watch list tree and will be in the format `'<serial_number> <denomination>\\n'`.  Look at one of the bill files in a text editor to see specific examples.  Insert each of the bills into the watch list.  Finally, an instance variable called `validator` holds a compiled regular expression that will be used to check for valid serial numbers (use the same regex as you did in hw1).\n",
    "\n",
    "`insert`:  This instance method takes a string representing a serial number and a string representing a denomination.  Insert the bill into the watch list.  We will do this one in class, but it may not be posted.  If you miss that class and you can't figure it out yourself, you will need to get it from another student.\n"
   ]
  },
  {
   "cell_type": "code",
   "execution_count": null,
   "metadata": {},
   "outputs": [],
   "source": [
    "class WatchListLinked:\n",
    "    def insert(self, serial_number, denomination):\n",
    "        \"\"\"\n",
    "        Boolean, as is commonly the case, because we want to be able to\n",
    "        count the number of times we run across a given bad bill and a given \n",
    "        sn can only be stored in the pt once.\n",
    "        \"\"\"\n",
    "        current = self.root.get_child(denomination)\n",
    "        for ch in serial_number:\n",
    "            next = current.get_child(ch)\n",
    "            if not next:\n",
    "                next = Node(ch)\n",
    "                current.children.append(next)\n",
    "            current = next\n",
    "        if not current.get_child():\n",
    "            current.children.append(Node())"
   ]
  },
  {
   "cell_type": "markdown",
   "metadata": {},
   "source": [
    "`class WatchListDict:`\n",
    "\n",
    "`init`:  This magic method takes a filename that defaults to the empty string.  Initialize an instance variable called `root` to a dictionary that maps each of the 5 denomination strings (i.e. `'5'`, `'10'`, etc.) to an empty dictionary.  If a filename was passed in, each line of the file will represent a bill that we want to add to our watch list dictionary and will be in the format `'<serial_number> <denomination>\\n'`.  Look at one of the bill files in a text editor to see specific examples.  Insert each of the bills into the watch list.  Finally, an instance variable called `validator` holds a compiled regular expression that will be used to check for valid serial numbers (use the same regex as you did in hw1).\n",
    "\n",
    "`insert`:  This instance method takes a string representing a serial number and a string representing a denomination.  Insert the bill into the watch list.  We will do this one in class, but it will not be posted.  If you miss that class and you can't figure it out yourself, you may need to get it from another student."
   ]
  },
  {
   "cell_type": "code",
   "execution_count": null,
   "metadata": {},
   "outputs": [],
   "source": [
    "class WatchListDict:\n",
    "    \"\"\"\n",
    "    The dictionary {None: None} is the terminal node.\n",
    "    \"\"\"\n",
    "     \n",
    "    def insert(self, serial_number, denomination):\n",
    "        \"\"\"\n",
    "        Boolean, as is commonly the case, because we want to be able to\n",
    "        count the number of times we run across a given bad bill and a given \n",
    "        sn can only be stored in the pt once.  \n",
    "        \"\"\"\n",
    "        current_dict = self.root[denomination]\n",
    "        for ch in serial_number:\n",
    "            if ch not in current_dict:\n",
    "                current_dict[ch] = {}\n",
    "            current_dict = current_dict[ch]\n",
    "        if None not in current_dict:\n",
    "            current_dict[None] = None"
   ]
  }
 ],
 "metadata": {
  "kernelspec": {
   "display_name": "Python 3",
   "language": "python",
   "name": "python3"
  },
  "language_info": {
   "codemirror_mode": {
    "name": "ipython",
    "version": 3
   },
   "file_extension": ".py",
   "mimetype": "text/x-python",
   "name": "python",
   "nbconvert_exporter": "python",
   "pygments_lexer": "ipython3",
   "version": "3.7.4"
  }
 },
 "nbformat": 4,
 "nbformat_minor": 2
}
