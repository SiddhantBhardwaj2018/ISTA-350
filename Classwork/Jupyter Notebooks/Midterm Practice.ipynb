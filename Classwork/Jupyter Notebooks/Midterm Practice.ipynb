{
 "cells": [
  {
   "cell_type": "code",
   "execution_count": 1,
   "metadata": {},
   "outputs": [],
   "source": [
    "import numpy as np,pandas as pd"
   ]
  },
  {
   "cell_type": "code",
   "execution_count": 2,
   "metadata": {},
   "outputs": [],
   "source": [
    "#Big O"
   ]
  },
  {
   "cell_type": "code",
   "execution_count": 9,
   "metadata": {},
   "outputs": [],
   "source": [
    "#Bubble Sort\n",
    "def bubble_sort(lst):\n",
    "    n = len(lst)\n",
    "    for i in range(1,n):\n",
    "        for j in range(0,n-1):\n",
    "            key = lst[j + 1]\n",
    "            if lst[j] > lst[j + 1]:\n",
    "                lst[j + 1]  = lst[j]\n",
    "                lst[j] = key\n",
    "    print(lst)"
   ]
  },
  {
   "cell_type": "code",
   "execution_count": 10,
   "metadata": {},
   "outputs": [
    {
     "name": "stdout",
     "output_type": "stream",
     "text": [
      "[0, 1, 2, 3, 4, 5, 6, 7, 8, 10]\n"
     ]
    }
   ],
   "source": [
    "bubble_sort([10,5,2,4,1,7,6,8,0,3])"
   ]
  },
  {
   "cell_type": "code",
   "execution_count": 1,
   "metadata": {},
   "outputs": [],
   "source": [
    "def bubble_sort1(lst):\n",
    "    n = len(lst)\n",
    "    for i in range(1,n):\n",
    "        for j in range(0,n-1):\n",
    "            key = lst[j + 1]\n",
    "            if lst[j] > lst[j + 1]:\n",
    "                lst[j + 1] =  lst[j]\n",
    "                lst[j] = key\n",
    "    print(lst)"
   ]
  },
  {
   "cell_type": "code",
   "execution_count": 2,
   "metadata": {},
   "outputs": [
    {
     "name": "stdout",
     "output_type": "stream",
     "text": [
      "[0, 1, 2, 3, 4, 5, 6, 7, 8, 10]\n"
     ]
    }
   ],
   "source": [
    "bubble_sort1([10,5,2,4,1,7,6,8,0,3])"
   ]
  },
  {
   "cell_type": "code",
   "execution_count": 23,
   "metadata": {},
   "outputs": [],
   "source": [
    "class Node:\n",
    "    def __init__(self,data =  None):\n",
    "        if data:\n",
    "            self.data = data\n",
    "        else:\n",
    "            self.data = None\n",
    "        self.next = None\n",
    "\n",
    "class LinkedList:\n",
    "    def __init__(self):\n",
    "        self.head = Node()\n",
    "    \n",
    "    def append(self,data):\n",
    "        new_node =  Node(data)\n",
    "        cur = self.head\n",
    "        while cur.next != None:\n",
    "            cur = cur.next\n",
    "        cur.next = new_node\n",
    "    \n",
    "    def length(self):\n",
    "        total = 0\n",
    "        cur = self.head\n",
    "        while cur.next != None:\n",
    "            total += 1\n",
    "            cur = cur.next\n",
    "        return total\n",
    "    \n",
    "    def get(self,index):\n",
    "        if index >= self.length():\n",
    "            return \"Index Out of range\"\n",
    "        cur_index = 0\n",
    "        cur_node = self.head\n",
    "        while cur_node.next != None:\n",
    "            cur_node = cur_node.next\n",
    "            if cur_index == index:\n",
    "                return cur_node.data\n",
    "            cur_index += 1\n",
    "            \n",
    "    def erase(self,index):\n",
    "        if index >= self.length:\n",
    "            return \"Index Error: Out of Range\"\n",
    "        cur_index = 0\n",
    "        cur_node = self.head\n",
    "        while cur.next != None:\n",
    "            last_node = cur_node\n",
    "            cur_node = cur_node.next\n",
    "            if cur_index == index:\n",
    "                last_node.next = cur_node\n",
    "                return\n",
    "            cur_index += 1\n",
    "            \n",
    "    def prepend(self,data):\n",
    "        new_node = Node(data)\n",
    "        new_node.next = self.head\n",
    "        self.head = new_node\n",
    "        \n",
    "    def display(self):\n",
    "        elems = []\n",
    "        cur_node = self.head\n",
    "        while cur_node.next != None:\n",
    "            cur_node = cur_node.next\n",
    "            elems.append(cur_node.data)\n",
    "        print(elems)\n",
    "            "
   ]
  },
  {
   "cell_type": "code",
   "execution_count": 24,
   "metadata": {},
   "outputs": [
    {
     "name": "stdout",
     "output_type": "stream",
     "text": [
      "[1, 20, 'alpha']\n"
     ]
    }
   ],
   "source": [
    "chicken = LinkedList()\n",
    "chicken.append(1)\n",
    "chicken.append(20)\n",
    "chicken.append(\"alpha\")\n",
    "chicken.display()"
   ]
  },
  {
   "cell_type": "code",
   "execution_count": 39,
   "metadata": {},
   "outputs": [],
   "source": [
    "class Node:\n",
    "    def __init__(self,datum):\n",
    "        self.datum = datum\n",
    "        self.next = None\n",
    "        \n",
    "class LinkedList:\n",
    "    def __init__(self):\n",
    "        self.head = None\n",
    "        \n",
    "    def to_list(self):\n",
    "        elems = []\n",
    "        cur = self.head\n",
    "        while cur.next != None:\n",
    "            elems.append(cur.data)\n",
    "            cur = cur.next\n",
    "        return elems\n",
    "    \n",
    "    def append(self,data):\n",
    "        cur = self.head\n",
    "        new_node = Node(data)\n",
    "        if self.head is None:\n",
    "            self.head = new_node\n",
    "        else:\n",
    "            while cur.next != None:\n",
    "                cur = cur.next\n",
    "            cur.next = new_node\n",
    "            \n",
    "    def remove(self,datum):\n",
    "        if self.head is None:\n",
    "            raise ValueError(\"Crazy list\")\n",
    "        cur_node = self.head\n",
    "        while cur_node:\n",
    "            if cur_node.data == datum:\n",
    "                self.head  = cur_node.next\n",
    "            else:\n",
    "                pass\n",
    "    \n",
    "          "
   ]
  },
  {
   "cell_type": "code",
   "execution_count": 40,
   "metadata": {},
   "outputs": [],
   "source": [
    "class Node:\n",
    "    def __init__(self,item = None):\n",
    "        self.datum = item\n",
    "        self.children = None\n",
    "    \n",
    "    def get_child(self,key = None):\n",
    "        for i in self.children:\n",
    "            if i.datum == key:\n",
    "                return i\n",
    "        return None\n",
    "    \n",
    "    def __eq__(self,other):\n",
    "        if len(self.children) == len(other.children):\n",
    "            return False\n",
    "        if not self.children:\n",
    "            return True\n",
    "        for child in self.children:\n",
    "            other_child = other.get_child(child.datum)\n",
    "            if not other_child:\n",
    "                return False\n",
    "            equal = equal and child == other_child\n",
    "        return equal\n",
    "    "
   ]
  },
  {
   "cell_type": "code",
   "execution_count": 1,
   "metadata": {},
   "outputs": [
    {
     "ename": "SyntaxError",
     "evalue": "unexpected EOF while parsing (<ipython-input-1-772e5bfbaf22>, line 15)",
     "output_type": "error",
     "traceback": [
      "\u001b[1;36m  File \u001b[1;32m\"<ipython-input-1-772e5bfbaf22>\"\u001b[1;36m, line \u001b[1;32m15\u001b[0m\n\u001b[1;33m    \u001b[0m\n\u001b[1;37m    ^\u001b[0m\n\u001b[1;31mSyntaxError\u001b[0m\u001b[1;31m:\u001b[0m unexpected EOF while parsing\n"
     ]
    }
   ],
   "source": [
    "import re\n",
    "class WatchListLinked:\n",
    "    def __init__(self,fname = \"\"):\n",
    "        self.root = Node()\n",
    "        self.root.children = [Node('5'),Node('10'),Node('20'),Node('50'),Node('100')]\n",
    "        self.validator = re.compile(r'^[A-M][A-L](?!00000000)\\d{8}(?!O)(?!Z)[A-Z]$')\n",
    "        if fname:\n",
    "            with open(fname,'r') as file:\n",
    "                text = file.readlines()\n",
    "                for line in text:\n",
    "                    line = line.split(' ')\n",
    "                    self.insert(line[0],line[1])\n",
    "                    \n",
    "    def insert(self,serial_num,denom):\n",
    "        "
   ]
  },
  {
   "cell_type": "code",
   "execution_count": null,
   "metadata": {},
   "outputs": [],
   "source": []
  },
  {
   "cell_type": "code",
   "execution_count": null,
   "metadata": {},
   "outputs": [],
   "source": []
  },
  {
   "cell_type": "code",
   "execution_count": null,
   "metadata": {},
   "outputs": [],
   "source": []
  },
  {
   "cell_type": "code",
   "execution_count": null,
   "metadata": {},
   "outputs": [],
   "source": []
  },
  {
   "cell_type": "code",
   "execution_count": null,
   "metadata": {},
   "outputs": [],
   "source": []
  },
  {
   "cell_type": "code",
   "execution_count": 13,
   "metadata": {},
   "outputs": [],
   "source": [
    "def is_lower_triangular(matrix):\n",
    "    for i in range(len(matrix)):\n",
    "        for j in range(len(matrix[0])):\n",
    "            if (j > i) and matrix[i][j] != 0:\n",
    "                return False\n",
    "    return True"
   ]
  },
  {
   "cell_type": "code",
   "execution_count": 14,
   "metadata": {},
   "outputs": [
    {
     "data": {
      "text/plain": [
       "False"
      ]
     },
     "execution_count": 14,
     "metadata": {},
     "output_type": "execute_result"
    }
   ],
   "source": [
    "is_lower_triangular([[5,1],[7,6]])"
   ]
  },
  {
   "cell_type": "code",
   "execution_count": null,
   "metadata": {},
   "outputs": [],
   "source": []
  },
  {
   "cell_type": "code",
   "execution_count": 12,
   "metadata": {},
   "outputs": [
    {
     "data": {
      "text/plain": [
       "False"
      ]
     },
     "execution_count": 12,
     "metadata": {},
     "output_type": "execute_result"
    }
   ],
   "source": [
    "is_lower([[5,6],[1,7]])"
   ]
  },
  {
   "cell_type": "code",
   "execution_count": 15,
   "metadata": {},
   "outputs": [],
   "source": [
    "import re"
   ]
  },
  {
   "cell_type": "code",
   "execution_count": 25,
   "metadata": {},
   "outputs": [],
   "source": [
    "pattern = re.compile(r'dog|cat')"
   ]
  },
  {
   "cell_type": "code",
   "execution_count": 32,
   "metadata": {},
   "outputs": [
    {
     "name": "stdout",
     "output_type": "stream",
     "text": [
      "['dog', 'cat']\n"
     ]
    }
   ],
   "source": [
    "print(pattern.findall('This is a dog cat'))"
   ]
  },
  {
   "cell_type": "code",
   "execution_count": 75,
   "metadata": {},
   "outputs": [],
   "source": [
    "class Rectangle:\n",
    "    def __init__(self,width,height):\n",
    "        self.width = width\n",
    "        self.height = height\n",
    "    \n",
    "    def repr(self):\n",
    "        print(\"**** Rectangle ****\")\n",
    "        print(\"width: \".rjust(9) + str(self.width))\n",
    "        print(\"height: \".rjust(10) + str(self.height))\n",
    "    @classmethod\n",
    "    def from_file(file):\n",
    "        with open(file,'r') as file:\n",
    "            text = file.readlines()\n",
    "            for i in range(len(text)):\n",
    "                if not text[0]:\n",
    "                    return False\n",
    "                width = float(text[0])\n",
    "                if not text[1]:\n",
    "                    return False\n",
    "                height = float(text[1])\n",
    "            return Rectangle(width,height)"
   ]
  },
  {
   "cell_type": "code",
   "execution_count": 76,
   "metadata": {},
   "outputs": [
    {
     "name": "stdout",
     "output_type": "stream",
     "text": [
      "**** Rectangle ****\n",
      "  width: 2\n",
      "  height: 3\n"
     ]
    }
   ],
   "source": [
    "rect = Rectangle(2,3)\n",
    "rect.repr()"
   ]
  },
  {
   "cell_type": "code",
   "execution_count": 2,
   "metadata": {},
   "outputs": [
    {
     "ename": "IndentationError",
     "evalue": "expected an indented block (<ipython-input-2-969eb13c4578>, line 4)",
     "output_type": "error",
     "traceback": [
      "\u001b[1;36m  File \u001b[1;32m\"<ipython-input-2-969eb13c4578>\"\u001b[1;36m, line \u001b[1;32m4\u001b[0m\n\u001b[1;33m    text = file.readlines()\u001b[0m\n\u001b[1;37m                           ^\u001b[0m\n\u001b[1;31mIndentationError\u001b[0m\u001b[1;31m:\u001b[0m expected an indented block\n"
     ]
    }
   ],
   "source": [
    "@classmethod\n",
    "def from_file(cls,file):\n",
    "    with open(file,'r') as file:\n",
    "             text = file.readlines()\n",
    "            for i in range(len(text)):\n",
    "                 if not text[0]:\n",
    "                      return False\n",
    "                 width = float(text[0])\n",
    "                 if not text[1]:\n",
    "                     return False\n",
    "                height = float(text[1])\n",
    "    return cls(width,height)"
   ]
  },
  {
   "cell_type": "code",
   "execution_count": 78,
   "metadata": {},
   "outputs": [
    {
     "ename": "SyntaxError",
     "evalue": "invalid character in identifier (<ipython-input-78-c948b9ad2eed>, line 4)",
     "output_type": "error",
     "traceback": [
      "\u001b[1;36m  File \u001b[1;32m\"<ipython-input-78-c948b9ad2eed>\"\u001b[1;36m, line \u001b[1;32m4\u001b[0m\n\u001b[1;33m    while tracker <= self:\u001b[0m\n\u001b[1;37m                ^\u001b[0m\n\u001b[1;31mSyntaxError\u001b[0m\u001b[1;31m:\u001b[0m invalid character in identifier\n"
     ]
    }
   ],
   "source": [
    "def sum(self):\n",
    "    sum_num = Binary('')\n",
    "    tracker = Binary('')\n",
    "    while tracker <= self:\n",
    "        sum_num += tracker\n",
    "        tracker +=  Binary('01')\n",
    "    return sum_num"
   ]
  },
  {
   "cell_type": "code",
   "execution_count": null,
   "metadata": {},
   "outputs": [],
   "source": []
  }
 ],
 "metadata": {
  "kernelspec": {
   "display_name": "Python 3",
   "language": "python",
   "name": "python3"
  },
  "language_info": {
   "codemirror_mode": {
    "name": "ipython",
    "version": 3
   },
   "file_extension": ".py",
   "mimetype": "text/x-python",
   "name": "python",
   "nbconvert_exporter": "python",
   "pygments_lexer": "ipython3",
   "version": "3.7.4"
  }
 },
 "nbformat": 4,
 "nbformat_minor": 4
}
