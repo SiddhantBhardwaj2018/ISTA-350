{
 "cells": [
  {
   "cell_type": "code",
   "execution_count": 2,
   "metadata": {},
   "outputs": [],
   "source": [
    "import functools, numpy as np"
   ]
  },
  {
   "cell_type": "code",
   "execution_count": 6,
   "metadata": {},
   "outputs": [],
   "source": [
    "#@functools.total_ordering\n",
    "class Binary:\n",
    "    def __init__(self,string = '0'):\n",
    "        if (string == '' or set(string) == {'0','1'} or set(string) == {'0'} or set(string) == {'1'}) and (len(string) <= 16):\n",
    "            if string == '':\n",
    "                self.bit_array = np.zeroes(16)\n",
    "            elif string[0] == '1':\n",
    "                x = np.ones(16 - len(string))\n",
    "                y = [int(i) for i in string]\n",
    "                z = np.array(y)\n",
    "                self.bit_array = np.concatenate((x,z))\n",
    "            else:\n",
    "                x = np.zeroes(16 - len(string))\n",
    "                y = [int(i) for i in string]\n",
    "                z = np.array(y)\n",
    "                self.bit_array = np.concatenate((x,z))\n",
    "        else:\n",
    "            raise RuntimeError('Something snapped')\n",
    "            \n",
    "    def __eq__(self,other):\n",
    "        return list(self.bit_array) == list(other.bit_array)\n",
    "    \n",
    "    def __repr__(self):\n",
    "        string1 = ''\n",
    "        for i in range(len(self.bit_array)):\n",
    "            string1 += str(self.bit_array[i])\n",
    "        return string1\n",
    "    \n",
    "    def __add__(self,other):\n",
    "        result = np.empty(16,dtype = int)\n",
    "        carry = 0\n",
    "        for i in range(15,-1,-1):\n",
    "            bit_sum = self.bit_array[i] + other.bit_array[i] + carry\n",
    "            carry = result[i] > 0\n",
    "            result[i] = bit_sum % 2\n",
    "        if self.bit_array[0] == other.bit_array[0] != result[0]:\n",
    "            raise RuntimeError('Binary: Overloading')\n",
    "        return Binary(\"\".join([str(i) for i in result]))\n",
    "    \n",
    "    def __neg__(self):\n",
    "        result = np.empty(16,dtype = int)\n",
    "        for i in range(len(self.bit_array)):\n",
    "            result[i] = 1 - self.bit_array[i]\n",
    "        return Binary(''.join([str(i) for i in result])) + Binary('01')\n",
    "    \n",
    "    def __sub__(self,other):\n",
    "        return self + (-other)\n",
    "    \n",
    "    def __int__(self):\n",
    "        value = 0\n",
    "        list1 = list(self.bit_array)\n",
    "        if list1[-1] != 1:\n",
    "            for i in range(len(list1)):\n",
    "                value += (2 ** i) * list1[i]\n",
    "        else:\n",
    "            for i in range(len(list1) - 1):\n",
    "                value += (2 ** i) * list1[i]\n",
    "            value += (-1) * (2 ** len(lst - 1))\n",
    "        return value\n",
    "    \n",
    "    def __lt__(self,other):\n",
    "        if self.bit_array[0] != other.bit_array[0]:\n",
    "            if self.bit_array[0] == 1:\n",
    "                return True\n",
    "            return False\n",
    "        else:\n",
    "            return bool((self - other).bit_array[0])\n",
    "        \n",
    "    def __abs__(self):\n",
    "        if self.bit_array[0] != 1:\n",
    "            return self + Binary()\n",
    "        else:\n",
    "            return -self\n",
    "                "
   ]
  },
  {
   "cell_type": "code",
   "execution_count": 1,
   "metadata": {},
   "outputs": [],
   "source": [
    "class NeighborNode:\n",
    "    def __init__(self,neighbor_number):\n",
    "        self.vertex_number = neighbor_number\n",
    "        self.next = None\n",
    "        \n",
    "class Vertex:\n",
    "    def __init__(self):\n",
    "        self.next = None\n",
    "        \n",
    "    def insert_neighbor(self,nvn):\n",
    "        self.next,self.next.next = NeighborNode(nvn),None\n",
    "        \n",
    "    def get_neighbors(self):\n",
    "        neighbors = []\n",
    "        while self.next:\n",
    "            neighbors.append(self.next.vertex_number)\n",
    "            self = self.next\n",
    "        return neighbors\n",
    "    \n",
    "    def get_neighbors_sublist(self,skip_list):\n",
    "        neighbors = []\n",
    "        while self.next:\n",
    "            if self.next.vertex_number not in skip_list:\n",
    "                neighbors.append(self.next.vertex_number)\n",
    "            self = self.next\n",
    "        return neighbors"
   ]
  },
  {
   "cell_type": "code",
   "execution_count": 2,
   "metadata": {},
   "outputs": [],
   "source": [
    "class Queue:\n",
    "    def __init__(self):\n",
    "        self.items = []\n",
    "        \n",
    "    def enqueue(self,item):\n",
    "        self.items.insert(0,item)\n",
    "        \n",
    "    def dequeue(self):\n",
    "        if self.is_empty():\n",
    "            return \"Queue is empty\"\n",
    "        return self.items.pop()\n",
    "        \n",
    "    def is_empty(self):\n",
    "        if len(self.items) == 0:\n",
    "            return True\n",
    "        return False\n",
    "    \n",
    "    def __len__(self):\n",
    "        return len(self.items)\n",
    "    \n",
    "    def peek(self):\n",
    "        if not self.items:\n",
    "            return \"Cannot peak at empty queue\"\n",
    "        return self.items[-1]"
   ]
  },
  {
   "cell_type": "code",
   "execution_count": 3,
   "metadata": {},
   "outputs": [],
   "source": [
    "class KeyStrokeEvent:\n",
    "    def __init__(self,code):\n",
    "        self.keycode = code\n",
    "        \n",
    "def keyboard_tokenizer(q):\n",
    "    tokens = []\n",
    "    token = ''\n",
    "    while not q.is_empty():\n",
    "        ch = chr(q.dequeue())\n",
    "        pass"
   ]
  },
  {
   "cell_type": "code",
   "execution_count": 4,
   "metadata": {},
   "outputs": [],
   "source": [
    "import pandas as pd\n",
    "def frequency_series(lst):\n",
    "    d = {}\n",
    "    for i in lst:\n",
    "        if i not in d:\n",
    "            d[i] = 1\n",
    "        else:\n",
    "            d[i] += 1\n",
    "    return pd.Series(data = d)"
   ]
  },
  {
   "cell_type": "code",
   "execution_count": 5,
   "metadata": {},
   "outputs": [
    {
     "data": {
      "text/plain": [
       "1    2\n",
       "2    3\n",
       "3    1\n",
       "5    1\n",
       "6    1\n",
       "7    4\n",
       "4    1\n",
       "8    1\n",
       "dtype: int64"
      ]
     },
     "execution_count": 5,
     "metadata": {},
     "output_type": "execute_result"
    }
   ],
   "source": [
    "frequency_series([1,1,2,2,2,3,5,6,7,7,7,4,7,8])"
   ]
  },
  {
   "cell_type": "code",
   "execution_count": 17,
   "metadata": {},
   "outputs": [],
   "source": [
    "def frequencies(lst):\n",
    "    d = {}\n",
    "    for i in lst:\n",
    "        if i not in d:\n",
    "            d[i] = 1\n",
    "        else:\n",
    "            d[i] += 1\n",
    "    lst1, lst2  = [i for i in d.keys()], [val for val in d.values()]\n",
    "    return lst1,lst2"
   ]
  },
  {
   "cell_type": "code",
   "execution_count": 18,
   "metadata": {},
   "outputs": [
    {
     "data": {
      "text/plain": [
       "([77, 99, 88, 66], [2, 2, 3, 1])"
      ]
     },
     "execution_count": 18,
     "metadata": {},
     "output_type": "execute_result"
    }
   ],
   "source": [
    "frequencies([77,99,77,88,88,88,66,99])"
   ]
  },
  {
   "cell_type": "code",
   "execution_count": null,
   "metadata": {},
   "outputs": [],
   "source": [
    "import requests,gzip\n",
    "from bs4 import BeautifulSoup\n",
    "\n"
   ]
  },
  {
   "cell_type": "code",
   "execution_count": null,
   "metadata": {},
   "outputs": [],
   "source": []
  },
  {
   "cell_type": "code",
   "execution_count": null,
   "metadata": {},
   "outputs": [],
   "source": []
  },
  {
   "cell_type": "code",
   "execution_count": null,
   "metadata": {},
   "outputs": [],
   "source": []
  },
  {
   "cell_type": "code",
   "execution_count": null,
   "metadata": {},
   "outputs": [],
   "source": []
  },
  {
   "cell_type": "code",
   "execution_count": null,
   "metadata": {},
   "outputs": [],
   "source": []
  },
  {
   "cell_type": "code",
   "execution_count": null,
   "metadata": {},
   "outputs": [],
   "source": []
  },
  {
   "cell_type": "code",
   "execution_count": null,
   "metadata": {},
   "outputs": [],
   "source": []
  },
  {
   "cell_type": "code",
   "execution_count": null,
   "metadata": {},
   "outputs": [],
   "source": []
  },
  {
   "cell_type": "code",
   "execution_count": null,
   "metadata": {},
   "outputs": [],
   "source": []
  },
  {
   "cell_type": "code",
   "execution_count": null,
   "metadata": {},
   "outputs": [],
   "source": []
  },
  {
   "cell_type": "code",
   "execution_count": null,
   "metadata": {},
   "outputs": [],
   "source": []
  }
 ],
 "metadata": {
  "kernelspec": {
   "display_name": "Python 3",
   "language": "python",
   "name": "python3"
  },
  "language_info": {
   "codemirror_mode": {
    "name": "ipython",
    "version": 3
   },
   "file_extension": ".py",
   "mimetype": "text/x-python",
   "name": "python",
   "nbconvert_exporter": "python",
   "pygments_lexer": "ipython3",
   "version": "3.7.4"
  }
 },
 "nbformat": 4,
 "nbformat_minor": 4
}
