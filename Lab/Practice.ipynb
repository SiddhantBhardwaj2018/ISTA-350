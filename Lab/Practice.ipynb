{
 "cells": [
  {
   "cell_type": "code",
   "execution_count": 5,
   "metadata": {},
   "outputs": [],
   "source": [
    "import matplotlib.pyplot as plt\n",
    "%matplotlib inline"
   ]
  },
  {
   "cell_type": "code",
   "execution_count": 6,
   "metadata": {},
   "outputs": [],
   "source": [
    "x = [2 * i for i in range(4)]\n",
    "y = [i // 2 for i in x]\n",
    "z = [i * i * j for i,j in zip(x,y)]\n",
    "y2 = [j + 4 for j in y]\n",
    "y3 = [j + 8 for j in y]\n",
    "y4 = [j + 12 for j in y]\n",
    "data = [y,y2,y3,y4]"
   ]
  },
  {
   "cell_type": "code",
   "execution_count": 7,
   "metadata": {},
   "outputs": [
    {
     "data": {
      "text/plain": [
       "[[0, 1, 2, 3], [4, 5, 6, 7], [8, 9, 10, 11], [12, 13, 14, 15]]"
      ]
     },
     "execution_count": 7,
     "metadata": {},
     "output_type": "execute_result"
    }
   ],
   "source": [
    "data"
   ]
  },
  {
   "cell_type": "code",
   "execution_count": 8,
   "metadata": {},
   "outputs": [
    {
     "data": {
      "text/plain": [
       "[[0, 4, 8, 12], [1, 5, 9, 13], [2, 6, 10, 14], [3, 7, 11, 15]]"
      ]
     },
     "execution_count": 8,
     "metadata": {},
     "output_type": "execute_result"
    }
   ],
   "source": [
    "data2 = [[l[i] for l in data] for i in range(len(data[0]))]\n",
    "data2"
   ]
  },
  {
   "cell_type": "code",
   "execution_count": 9,
   "metadata": {},
   "outputs": [
    {
     "data": {
      "text/plain": [
       "[0, 2, 4, 6]"
      ]
     },
     "execution_count": 9,
     "metadata": {},
     "output_type": "execute_result"
    }
   ],
   "source": [
    "x"
   ]
  },
  {
   "cell_type": "code",
   "execution_count": 10,
   "metadata": {},
   "outputs": [
    {
     "data": {
      "text/plain": [
       "[0, 4, 32, 108]"
      ]
     },
     "execution_count": 10,
     "metadata": {},
     "output_type": "execute_result"
    }
   ],
   "source": [
    "z"
   ]
  },
  {
   "cell_type": "code",
   "execution_count": 11,
   "metadata": {},
   "outputs": [
    {
     "data": {
      "text/plain": [
       "[<matplotlib.lines.Line2D at 0x25d6e8f10c8>,\n",
       " <matplotlib.lines.Line2D at 0x25d70a2e048>,\n",
       " <matplotlib.lines.Line2D at 0x25d70a2e208>,\n",
       " <matplotlib.lines.Line2D at 0x25d70a2e3c8>]"
      ]
     },
     "execution_count": 11,
     "metadata": {},
     "output_type": "execute_result"
    },
    {
     "data": {
      "image/png": "[encoded data removed]",
      "text/plain": [
       "<Figure size 432x288 with 1 Axes>"
      ]
     },
     "metadata": {
      "needs_background": "light"
     },
     "output_type": "display_data"
    }
   ],
   "source": [
    "plt.plot(data2)"
   ]
  },
  {
   "cell_type": "code",
   "execution_count": 12,
   "metadata": {},
   "outputs": [
    {
     "data": {
      "text/plain": [
       "[<matplotlib.lines.Line2D at 0x25d70af3748>]"
      ]
     },
     "execution_count": 12,
     "metadata": {},
     "output_type": "execute_result"
    },
    {
     "data": {
      "image/png": "[encoded data removed]",
      "text/plain": [
       "<Figure size 432x288 with 2 Axes>"
      ]
     },
     "metadata": {
      "needs_background": "light"
     },
     "output_type": "display_data"
    }
   ],
   "source": [
    "plt.subplot(414)\n",
    "plt.plot(x,z)\n",
    "plt.subplot(411)\n",
    "plt.plot(x,y3)"
   ]
  },
  {
   "cell_type": "code",
   "execution_count": 13,
   "metadata": {},
   "outputs": [
    {
     "data": {
      "text/plain": [
       "[<matplotlib.lines.Line2D at 0x25d70bb4488>]"
      ]
     },
     "execution_count": 13,
     "metadata": {},
     "output_type": "execute_result"
    },
    {
     "data": {
      "image/png": "[encoded data removed]",
      "text/plain": [
       "<Figure size 432x288 with 2 Axes>"
      ]
     },
     "metadata": {
      "needs_background": "light"
     },
     "output_type": "display_data"
    }
   ],
   "source": [
    "plt.subplot(2,12,20)\n",
    "plt.plot(x,y)\n",
    "plt.subplot(2,12,1)\n",
    "plt.plot(x,z)"
   ]
  },
  {
   "cell_type": "code",
   "execution_count": 14,
   "metadata": {},
   "outputs": [],
   "source": [
    "from operator import itemgetter"
   ]
  },
  {
   "cell_type": "code",
   "execution_count": 15,
   "metadata": {},
   "outputs": [],
   "source": [
    "lol = [['Thompson', 'Violet'],\n",
    "       ['Mangin', 'Lilly'],\n",
    "       ['Thompson', 'Trixie'],\n",
    "       ['Thompson', 'Lilly'],\n",
    "       ['Mangin', 'Violet'],\n",
    "       ['Thompson', 'Rocket'],\n",
    "       ['Mangin', 'Lilly'],\n",
    "       ['Mangin', 'Dash']]"
   ]
  },
  {
   "cell_type": "code",
   "execution_count": 16,
   "metadata": {},
   "outputs": [
    {
     "name": "stdout",
     "output_type": "stream",
     "text": [
      "['Mangin', 'Dash']\n",
      "['Mangin', 'Lilly']\n",
      "['Mangin', 'Lilly']\n",
      "['Mangin', 'Violet']\n",
      "['Thompson', 'Lilly']\n",
      "['Thompson', 'Rocket']\n",
      "['Thompson', 'Trixie']\n",
      "['Thompson', 'Violet']\n"
     ]
    }
   ],
   "source": [
    "slol = sorted(lol)\n",
    "for l in slol:\n",
    "    print(l)"
   ]
  },
  {
   "cell_type": "code",
   "execution_count": 17,
   "metadata": {},
   "outputs": [
    {
     "name": "stdout",
     "output_type": "stream",
     "text": [
      "['Mangin', 'Dash']\n",
      "['Mangin', 'Lilly']\n",
      "['Mangin', 'Lilly']\n",
      "['Thompson', 'Lilly']\n",
      "['Thompson', 'Rocket']\n",
      "['Thompson', 'Trixie']\n",
      "['Mangin', 'Violet']\n",
      "['Thompson', 'Violet']\n"
     ]
    }
   ],
   "source": [
    "slol = sorted(lol,key = itemgetter(1,0))\n",
    "for l in slol:\n",
    "    print(l)"
   ]
  },
  {
   "cell_type": "code",
   "execution_count": 18,
   "metadata": {},
   "outputs": [
    {
     "name": "stdout",
     "output_type": "stream",
     "text": [
      "['Mangin', 'Dash']\n",
      "['Mangin', 'Lilly']\n",
      "['Mangin', 'Lilly']\n",
      "['Thompson', 'Lilly']\n",
      "['Thompson', 'Rocket']\n",
      "['Thompson', 'Trixie']\n",
      "['Mangin', 'Violet']\n",
      "['Thompson', 'Violet']\n"
     ]
    }
   ],
   "source": [
    "slol = sorted(lol,key = lambda x: (x[1],x[0]))\n",
    "for i in slol:\n",
    "    print(i)"
   ]
  },
  {
   "cell_type": "code",
   "execution_count": 19,
   "metadata": {},
   "outputs": [],
   "source": [
    "def dog_generator():\n",
    "    yield 'Trixie'\n",
    "    yield 'Mollie'\n",
    "    yield 'Lilly'\n",
    "    yield 'Violet'\n",
    "    yield 'Rocket'"
   ]
  },
  {
   "cell_type": "code",
   "execution_count": 20,
   "metadata": {},
   "outputs": [
    {
     "name": "stdout",
     "output_type": "stream",
     "text": [
      "Trixie\n",
      "Mollie\n",
      "Lilly\n",
      "Violet\n",
      "Rocket\n"
     ]
    }
   ],
   "source": [
    "for dog in dog_generator():\n",
    "    print(dog)"
   ]
  },
  {
   "cell_type": "code",
   "execution_count": 21,
   "metadata": {},
   "outputs": [
    {
     "data": {
      "text/plain": [
       "['Trixie', 'Mollie', 'Lilly', 'Violet', 'Rocket']"
      ]
     },
     "execution_count": 21,
     "metadata": {},
     "output_type": "execute_result"
    }
   ],
   "source": [
    "list(dog_generator())"
   ]
  },
  {
   "cell_type": "code",
   "execution_count": 22,
   "metadata": {},
   "outputs": [
    {
     "data": {
      "text/plain": [
       "['Trixie', 'Mollie', 'Lilly', 'Violet', 'Rocket']"
      ]
     },
     "execution_count": 22,
     "metadata": {},
     "output_type": "execute_result"
    }
   ],
   "source": [
    "[dog for dog in dog_generator()]"
   ]
  },
  {
   "cell_type": "code",
   "execution_count": 23,
   "metadata": {},
   "outputs": [],
   "source": [
    "dg = dog_generator()"
   ]
  },
  {
   "cell_type": "code",
   "execution_count": 24,
   "metadata": {},
   "outputs": [
    {
     "data": {
      "text/plain": [
       "'Trixie'"
      ]
     },
     "execution_count": 24,
     "metadata": {},
     "output_type": "execute_result"
    }
   ],
   "source": [
    "next(dg)"
   ]
  },
  {
   "cell_type": "code",
   "execution_count": 25,
   "metadata": {},
   "outputs": [],
   "source": [
    "def infinite_generator():\n",
    "    i = 0\n",
    "    while True:\n",
    "        yield i\n",
    "        i += 1"
   ]
  },
  {
   "cell_type": "code",
   "execution_count": 26,
   "metadata": {},
   "outputs": [],
   "source": [
    "class Stack:\n",
    "    def __init__(self):\n",
    "        self.stack = []\n",
    "        \n",
    "    def insert(self,item):\n",
    "        self.stack.append(item)\n",
    "        \n",
    "    def pop(self):\n",
    "        if not self.stack:\n",
    "            raise IndexError(\"Can't pop from an empty stack\")\n",
    "        self.stack.pop()\n",
    "        \n",
    "    def print(self):\n",
    "        print(self.stack)\n",
    "        \n",
    "    def length(self):\n",
    "        return len(self.stack)\n",
    "    \n",
    "    def is_empty(self):\n",
    "        if not len(self.stack):\n",
    "            return 'It is empty'\n",
    "        else:\n",
    "            return 'It is not empty'"
   ]
  },
  {
   "cell_type": "code",
   "execution_count": 27,
   "metadata": {},
   "outputs": [
    {
     "name": "stdout",
     "output_type": "stream",
     "text": [
      "[]\n",
      "[0]\n",
      "[0, 1]\n",
      "[0, 1, 2]\n",
      "[0, 1, 2, 3]\n",
      "[0, 1, 2, 3, 4]\n",
      "[0, 1, 2, 3]\n"
     ]
    },
    {
     "data": {
      "text/plain": [
       "'It is not empty'"
      ]
     },
     "execution_count": 27,
     "metadata": {},
     "output_type": "execute_result"
    }
   ],
   "source": [
    "stack = Stack()\n",
    "stack.print()\n",
    "stack.insert(0)\n",
    "stack.print()\n",
    "stack.insert(1)\n",
    "stack.print()\n",
    "stack.insert(2)\n",
    "stack.print()\n",
    "stack.insert(3)\n",
    "stack.print()\n",
    "stack.insert(4)\n",
    "stack.print()\n",
    "stack.pop()\n",
    "stack.print()\n",
    "stack.is_empty()"
   ]
  },
  {
   "cell_type": "code",
   "execution_count": 28,
   "metadata": {},
   "outputs": [],
   "source": [
    "class Queue:\n",
    "    def __init__(self):\n",
    "        self.queue = []\n",
    "        \n",
    "    def insert(self,item):\n",
    "        self.queue.append(item)\n",
    "        \n",
    "    def pop(self):\n",
    "        if not self.queue:\n",
    "            raise IndexError(\"Can't pop from an empty list\")\n",
    "        else:\n",
    "            self.queue.pop(0)\n",
    "            \n",
    "    def __len__(self):\n",
    "        return len(self.queue)\n",
    "    \n",
    "    def is_empty(self):\n",
    "        if len(self.queue) == 0:\n",
    "            print('This is empty')\n",
    "        else:\n",
    "            print('This is not empty')\n",
    "            \n",
    "    def print(self):\n",
    "        print(self.queue)"
   ]
  },
  {
   "cell_type": "code",
   "execution_count": 29,
   "metadata": {},
   "outputs": [
    {
     "name": "stdout",
     "output_type": "stream",
     "text": [
      "[0, 1, 2]\n",
      "[1, 2]\n",
      "This is not empty\n"
     ]
    }
   ],
   "source": [
    "queue = Queue()\n",
    "queue.insert(0)\n",
    "queue.insert(1)\n",
    "queue.insert(2)\n",
    "queue.print()\n",
    "queue.pop()\n",
    "queue.print()\n",
    "len(queue)\n",
    "queue.is_empty()"
   ]
  },
  {
   "cell_type": "code",
   "execution_count": 30,
   "metadata": {},
   "outputs": [],
   "source": [
    "class Node:\n",
    "    def __init__(self,datum = None):\n",
    "        self.datum = datum\n",
    "        self.next = None\n",
    "\n",
    "class SinglyLinkedList:\n",
    "    def __init__(self):\n",
    "        self.head = Node()\n",
    "        \n",
    "    def append(self,data):\n",
    "        cur = self.head\n",
    "        while cur.next:\n",
    "            cur = cur.next\n",
    "        cur.next = Node(data)\n",
    "        \n",
    "    def length(self):\n",
    "        total = 0\n",
    "        cur = self.head\n",
    "        while cur.next:\n",
    "            cur = cur.next\n",
    "            total += 1\n",
    "        return total\n",
    "    \n",
    "    def get(self,index):\n",
    "        cur = self.head\n",
    "        cur_index = 0\n",
    "        while cur.next:\n",
    "            cur = cur.next\n",
    "            if cur_index == index:\n",
    "                return cur.datum\n",
    "            cur_index += 1\n",
    "            \n",
    "    def erase(self,index):\n",
    "        cur = self.head\n",
    "        cur_index = 0\n",
    "        while cur.next:\n",
    "            prev = cur\n",
    "            cur = cur.next\n",
    "            if cur_index == index:\n",
    "                prev.next = cur.next\n",
    "                return\n",
    "            cur_index += 1\n",
    "            \n",
    "    def prepend(self,datum):\n",
    "        node = Node(datum)\n",
    "        node.next = self.head\n",
    "        self.head = node\n",
    "            \n",
    "    def display(self):\n",
    "        elems = []\n",
    "        cur = self.head\n",
    "        while cur.next:\n",
    "            elems.append(cur.datum)\n",
    "            cur = cur.next\n",
    "        print(elems)"
   ]
  },
  {
   "cell_type": "code",
   "execution_count": 31,
   "metadata": {},
   "outputs": [],
   "source": [
    "#Linear Search\n",
    "def linear_search(lst,item):\n",
    "    for obj in lst:\n",
    "        if obj == item:\n",
    "            return True\n",
    "    return False"
   ]
  },
  {
   "cell_type": "code",
   "execution_count": 32,
   "metadata": {},
   "outputs": [],
   "source": [
    "#Binary Search\n",
    "def binary_search(lst,item):\n",
    "    low = 0\n",
    "    high = len(lst) - 1\n",
    "    while low <= high:\n",
    "        mid = (low + high) // 2\n",
    "        if item == lst[mid]:\n",
    "            return True\n",
    "        elif item < lst[mid]:\n",
    "            high = mid - 1\n",
    "        else:\n",
    "            low = mid + 1\n",
    "    return False"
   ]
  },
  {
   "cell_type": "code",
   "execution_count": 33,
   "metadata": {},
   "outputs": [],
   "source": [
    "def recursive_binary_search(lst,target,low,high):\n",
    "    low = 0\n",
    "    high = len(lst) - 1\n",
    "    while low <= high:\n",
    "        mid = (low + high) // 2\n",
    "        if lst[mid] == target:\n",
    "            return True\n",
    "        elif lst[mid] < target:\n",
    "            return recursive_binary_search(lst,target,low,mid - 1)\n",
    "        else:\n",
    "            return recursive_binary_search(lst,target,mid + 1,high)\n",
    "    return False"
   ]
  },
  {
   "cell_type": "code",
   "execution_count": 34,
   "metadata": {},
   "outputs": [],
   "source": [
    "class Node:\n",
    "    def __init__(self,datum =  None):\n",
    "        self.datum = datum\n",
    "        self.next = None        \n",
    "class SinglyLinkedList:\n",
    "    def __init__(self):\n",
    "        self.head = Node()\n",
    "        \n",
    "    def append(self,item):\n",
    "        cur = self.head\n",
    "        while cur.next:\n",
    "            cur =  cur.next\n",
    "        cur.next = Node(item)\n",
    "        \n",
    "    def prepend(self,item):\n",
    "        node = Node(item)\n",
    "        node.next = self.head\n",
    "        self.head = node\n",
    "        \n",
    "    def __len__(self):\n",
    "        total = 0\n",
    "        cur = self.head\n",
    "        while cur.next:\n",
    "            cur = cur.next\n",
    "            total += 1\n",
    "        return total\n",
    "    \n",
    "    def search(self,index):\n",
    "        cur = self.head\n",
    "        cur_index = 0\n",
    "        while cur.next:\n",
    "            cur = cur.next\n",
    "            if index == cur_index:\n",
    "                print(cur.datum)\n",
    "                return\n",
    "            cur_index += 1\n",
    "            \n",
    "    def erase(self,index):\n",
    "        cur = self.head\n",
    "        cur_index = 0\n",
    "        while cur.next:\n",
    "            prev = cur\n",
    "            cur = cur.next\n",
    "            if cur_index == index:\n",
    "                prev.next = cur.next\n",
    "            cur_index += 1\n",
    "            \n",
    "    def display(self):\n",
    "        elems = []\n",
    "        cur = self.head\n",
    "        while cur.next:\n",
    "            cur = cur.next\n",
    "            elems.append(cur.datum)\n",
    "        print(elems)\n",
    "            "
   ]
  },
  {
   "cell_type": "code",
   "execution_count": 35,
   "metadata": {},
   "outputs": [
    {
     "name": "stdout",
     "output_type": "stream",
     "text": [
      "[]\n",
      "[1, 2]\n",
      "[1, 2, 5, 7, 9, 10]\n",
      "7\n",
      "[2, 5, 7, 9, 10]\n"
     ]
    }
   ],
   "source": [
    "linkedList =  SinglyLinkedList()\n",
    "linkedList.display()\n",
    "linkedList.append(1)\n",
    "linkedList.append(2)\n",
    "linkedList.display()\n",
    "linkedList.append(5)\n",
    "linkedList.append(7)\n",
    "linkedList.append(9)\n",
    "linkedList.append(10)\n",
    "linkedList.display()\n",
    "linkedList.search(3)\n",
    "linkedList.erase(0)\n",
    "linkedList.display()"
   ]
  },
  {
   "cell_type": "code",
   "execution_count": 36,
   "metadata": {},
   "outputs": [],
   "source": [
    "class Node:\n",
    "    def __init__(self,datum = None):\n",
    "        self.datum = datum\n",
    "        self.next = None\n",
    "        self.prev = None\n",
    "\n",
    "class DoublyLinkedList:\n",
    "    def __init__(self):\n",
    "        self.head = Node()\n",
    "        \n",
    "    def append(self,datum):\n",
    "        node = Node(datum)\n",
    "        cur = self.head\n",
    "        while cur.next:\n",
    "            cur = cur.next\n",
    "        node.prev = cur\n",
    "        cur.next = node\n",
    "        \n",
    "    def prepend(self,datum):\n",
    "        node = Node(datum)\n",
    "        node.next = self.head\n",
    "        self.head.prev = node\n",
    "        self.head = node\n",
    "        \n",
    "    def __len__(self):\n",
    "        total = 0\n",
    "        cur = self.head\n",
    "        while cur.next:\n",
    "            cur = cur.next\n",
    "            total += 1\n",
    "        print(total)\n",
    "        \n",
    "    def erase(self,index):\n",
    "        cur = self.head\n",
    "        cur_index = index\n",
    "        while cur.next:\n",
    "            last = cur\n",
    "            cur = cur.next\n",
    "            if cur_index == index:\n",
    "                last.next = cur.next\n",
    "                cur.next.prev = last\n",
    "                cur.next = None\n",
    "                cur.prev = None\n",
    "            cur_index += 1\n",
    "            \n",
    "    def search(self,index):\n",
    "        cur = self.head\n",
    "        cur_index = 0\n",
    "        while cur.next:\n",
    "            cur = cur.next\n",
    "            if cur_index == index:\n",
    "                return cur.datum\n",
    "            cur_index += 1\n",
    "            \n",
    "    def display(self):\n",
    "        elems = []\n",
    "        cur = self.head\n",
    "        while cur.next:\n",
    "            cur = cur.next\n",
    "            elems.append(cur.datum)\n",
    "        print(elems)\n",
    "                "
   ]
  },
  {
   "cell_type": "code",
   "execution_count": 37,
   "metadata": {},
   "outputs": [
    {
     "name": "stdout",
     "output_type": "stream",
     "text": [
      "[]\n",
      "[1, 2]\n",
      "[1, 2, 5, 7, 9, 10]\n",
      "[2, 5, 7, 9, 10]\n"
     ]
    }
   ],
   "source": [
    "linkedList =  DoublyLinkedList()\n",
    "linkedList.display()\n",
    "linkedList.append(1)\n",
    "linkedList.append(2)\n",
    "linkedList.display()\n",
    "linkedList.append(5)\n",
    "linkedList.append(7)\n",
    "linkedList.append(9)\n",
    "linkedList.append(10)\n",
    "linkedList.display()\n",
    "linkedList.search(3)\n",
    "linkedList.erase(0)\n",
    "linkedList.display()"
   ]
  },
  {
   "cell_type": "code",
   "execution_count": 1,
   "metadata": {},
   "outputs": [],
   "source": [
    "import functools,numpy as np"
   ]
  },
  {
   "cell_type": "code",
   "execution_count": 11,
   "metadata": {},
   "outputs": [],
   "source": [
    "@functools.total_ordering\n",
    "class Binary:\n",
    "    def __init__(self,string = '0'):\n",
    "        if string == '' or set(string) == {'0','1'} or set(string) == {'0'} or set(string) == {'1'} or len(string) <= 16:\n",
    "            if string == '':\n",
    "                self.bit_array = np.zeroes(16)\n",
    "            elif string[0] == '1':\n",
    "                x = np.ones(16 - len(string))\n",
    "                y = [int(i) for i in string]\n",
    "                z = np.array(y)\n",
    "                self.bit_array = np.concatenate((x,z))\n",
    "            elif string[0] == '0':\n",
    "                x = np.zeroes(16 - len(string))\n",
    "                y = [int(i) for i in string]\n",
    "                z = np.array(y)\n",
    "                self.bit_array = np.concatenate((x,z))\n",
    "        else:\n",
    "            raise RunTimeError\n",
    "            \n",
    "    def __eq__(self,other):\n",
    "        return self.bit_array == other.bit_array\n",
    "    \n",
    "    def __repr__(self):\n",
    "        string1 = ''\n",
    "        for i in self.bit_array:\n",
    "            string1 += str(i)\n",
    "        return string\n",
    "    \n",
    "    def __add__(self,other):\n",
    "        result = np.empty(16,dtype = int)\n",
    "        carry = 0\n",
    "        for i in range(15,-1,-1):\n",
    "            bit_sum = self.bit_array[i] + other.bit_array[i] + carry\n",
    "            result[i] = bit_sum % 2\n",
    "            carry = bit_sum > 1\n",
    "        if self.bit_array[0] == other.bit_array[0] != result[0]:\n",
    "            raise RuntimeError('Binary: Overflow')\n",
    "        return Binary(''.join([str(i) for i in result]))\n",
    "    \n",
    "    def __neg__(self):\n",
    "        bin_new = Binary('')\n",
    "        for i in range(len(self.bit_array)):\n",
    "            bin_new.bit_array[i] = 1 - self.bit_array[i]\n",
    "        return bin_new + Binary('01')\n",
    "    \n",
    "    def __sub__(self,other):\n",
    "        return self + (-other)\n",
    "    \n",
    "    def __int__(self):\n",
    "        value = 0\n",
    "        lst = list(self.bit_array)[::-1]\n",
    "        if lst[-1] != 1:\n",
    "             for i in range(len(lst)):\n",
    "                value += (2 ** i) * lst[i]\n",
    "        else:\n",
    "            for i in range(len(lst) - 1):\n",
    "                value += (2 ** i) * lst[i]\n",
    "            value += (-1) * (2 ** lst[len(lst) - 1])\n",
    "            \n",
    "    def __lt__(self,other):\n",
    "        if self.bit_array[0] != other.bit_array[0]:\n",
    "            if self.bit_array[0] == 1:\n",
    "                return True\n",
    "            else:\n",
    "                return False\n",
    "        else:\n",
    "            return bool((self-other).bit_array[0])\n",
    "        \n",
    "    def __abs__(self):\n",
    "        if self.bit_array[0] == 0:\n",
    "            return self + Binary()\n",
    "        else:\n",
    "            return -self"
   ]
  },
  {
   "cell_type": "code",
   "execution_count": 1,
   "metadata": {},
   "outputs": [],
   "source": [
    "def get_obj():\n",
    "    fname = input(\"Enter a filename or hit enter to quit: \")\n",
    "    while fname:\n",
    "        try:\n",
    "            with open(fname) as fp:\n",
    "                obj = json.load(fp)\n",
    "                print(type(obj))\n",
    "                print(obj)\n",
    "                return obj\n",
    "        except:\n",
    "            print('Bad or missing file')\n",
    "            fname = input('Enter a filename or hit enter to quit: ')\n",
    "    print('No file selected')"
   ]
  },
  {
   "cell_type": "code",
   "execution_count": 3,
   "metadata": {},
   "outputs": [],
   "source": [
    "def get_columns1(lst_lsts,index):\n",
    "    cols = []\n",
    "    for i in range(len(lst_lsts)):\n",
    "        cols.append(lst_lsts[i][j])\n",
    "    return cols"
   ]
  },
  {
   "cell_type": "code",
   "execution_count": 4,
   "metadata": {},
   "outputs": [],
   "source": [
    "def get_columns(list1,index):\n",
    "    return [lst[index] for lst in list1]"
   ]
  },
  {
   "cell_type": "code",
   "execution_count": 5,
   "metadata": {},
   "outputs": [],
   "source": [
    "def get_column_array(list1,index):\n",
    "    return list(list1[:,index])"
   ]
  },
  {
   "cell_type": "code",
   "execution_count": 6,
   "metadata": {},
   "outputs": [],
   "source": [
    "def get_longest_word(fname):\n",
    "    result = ['']\n",
    "    with open(fname,'r') as file:\n",
    "        text = file.readlines()\n",
    "        for line in text:\n",
    "            for word in line:\n",
    "                for ch in string.punctuation:\n",
    "                    word = word.replace(' ',ch)\n",
    "                    if len(word) > len(result[0]):\n",
    "                        result = [word]\n",
    "                    elif len(word) == len(result[0]):\n",
    "                        result.append(word)\n",
    "    return result\n",
    "        "
   ]
  },
  {
   "cell_type": "code",
   "execution_count": 7,
   "metadata": {},
   "outputs": [],
   "source": [
    "def bubble_sort(lst):\n",
    "    n = len(lst)\n",
    "    for i in range(1,n):\n",
    "        for j in range(0,n - 1):\n",
    "            key = lst[j + 1]\n",
    "            if lst[j] > lst[j + 1]:\n",
    "                lst[j + 1] = lst[j]\n",
    "                lst[j] = key\n",
    "    return lst"
   ]
  },
  {
   "cell_type": "code",
   "execution_count": 8,
   "metadata": {},
   "outputs": [
    {
     "data": {
      "text/plain": [
       "[1, 3, 4, 5, 6, 7, 9]"
      ]
     },
     "execution_count": 8,
     "metadata": {},
     "output_type": "execute_result"
    }
   ],
   "source": [
    "bubble_sort([1,5,4,9,6,7,3])"
   ]
  },
  {
   "cell_type": "code",
   "execution_count": 4,
   "metadata": {},
   "outputs": [],
   "source": [
    "class Queue:\n",
    "    def __init__(self):\n",
    "        self.items = []\n",
    "        \n",
    "    def enqueue(self,item):\n",
    "        self.items.insert(0,item)\n",
    "        \n",
    "    def dequeue(self):\n",
    "        if not self.is_empty():\n",
    "            return self.items.pop()\n",
    "    def is_empty():\n",
    "        return len(self.items) == 0\n",
    "    \n",
    "    def peek(self):\n",
    "        if not self.is_empty():\n",
    "            return self.items[-1].value\n",
    "        \n",
    "    def __len__(self):\n",
    "        return self.size()\n",
    "    \n",
    "    def size(self):\n",
    "        return len(self.items)\n",
    "    \n",
    "class Stack:\n",
    "    def __init__(self):\n",
    "        self.items = []\n",
    "        \n",
    "    def push(self,item):\n",
    "        self.items.append(item)\n",
    "        \n",
    "    def pop(self):\n",
    "        if not self.items:\n",
    "            return self.items.pop()\n",
    "        \n",
    "    def is_empty(self):\n",
    "        return len(self.items) == 0\n",
    "    \n",
    "    def peek(self):\n",
    "        if not self.is_empty():\n",
    "            return self.items[-1]\n",
    "        \n",
    "    def size(self):\n",
    "        return len(self.items)\n",
    "\n",
    "class Node:\n",
    "    def __init__(self,value):\n",
    "        self.value = value\n",
    "        self.left = None\n",
    "        self.right = None\n",
    "        \n",
    "class BinaryTree:\n",
    "    def __init__(self,root):\n",
    "        self.root = Node(root)\n",
    "        \n",
    "    def print_tree(self,traversal_type):\n",
    "        if traversal_type == 'preorder':\n",
    "            return self.preorder_print(tree.root,\"\")\n",
    "        elif traversal_type == 'inorder':\n",
    "            return self.inorder_print(tree.root,\"\")\n",
    "        elif traversal_type == 'postorder':\n",
    "            return self.postorder_print(tree.root,\"\")\n",
    "        else:\n",
    "            print(\"Traversal type is not supported\")\n",
    "        \n",
    "    def preorder_print(self,start,traversal):\n",
    "        #Root-Left-Right\n",
    "        if start:\n",
    "            traversal = str(start) + '-'\n",
    "            traversal = self.preorder_print(start.left,traversal)\n",
    "            traversal = self.preorder_print(start.right,traversal)\n",
    "        return traversal\n",
    "    \n",
    "    def inorder_print(self,start,traversal):\n",
    "        #Left-Root-Right\n",
    "        if start:\n",
    "            traversal = self.inorder_print(start.left,traversal)\n",
    "            traversal = str(start) + '-'\n",
    "            traversal = self.inorder_print(start.right,traversal)\n",
    "        return traversal\n",
    "    \n",
    "    def postorder_print(self,start,traversal):\n",
    "        #Left-Right-Root\n",
    "        if start:\n",
    "            traversal = self.inorder_print(start.left,traversal)\n",
    "            traversal = self.inorder_print(start.right,traversal)\n",
    "            traversal = str(start) + '-'\n",
    "        return traversal\n",
    "            \n",
    "    def levelorder_print(self,start):\n",
    "        if not start:\n",
    "            return\n",
    "        \n",
    "        queue = Queue()\n",
    "        queue.enqueue(start)\n",
    "        traversal = \"\"\n",
    "        while len(queue) > 0:\n",
    "            traversal += str(queue.peek()) + '-'\n",
    "            node = queue.dequeue()\n",
    "            \n",
    "            if node.left:\n",
    "                queue.enqueue(node.left)\n",
    "            if node.right:\n",
    "                queue.enqueue(node.right)\n",
    "                \n",
    "        return traversal\n",
    "    \n",
    "    def reverse_level(self,start):\n",
    "        if not start:\n",
    "            return\n",
    "        queue = Queue()\n",
    "        queue.enqueue(start)\n",
    "        stack = Stack()\n",
    "        traversal = \"\"\n",
    "        while len(queue) > 0:\n",
    "            node = queue.dequeue()\n",
    "            stack.push(node)\n",
    "            if node.right:\n",
    "                queue.enqueue(node.right)\n",
    "            if node.left:\n",
    "                queue.enqueue(node.left)\n",
    "        while len(stack) > 0:\n",
    "            node = stack.pop()\n",
    "            traversal += str(node.value) + '-'\n",
    "        return traversal\n",
    "    \n",
    "    def height(self,node):\n",
    "        if not node:\n",
    "            return -1\n",
    "        left_height = self.height(node.left)\n",
    "        right_height = self.height(node.right)\n",
    "        return 1 + max(left_height,right_height)\n",
    "    \n",
    "    def size_recursive(self,node):\n",
    "        if node is None:\n",
    "            return 0\n",
    "        return 1 + self.size_recursive(node.left) + self.size_recursive(node.right)"
   ]
  },
  {
   "cell_type": "code",
   "execution_count": 5,
   "metadata": {},
   "outputs": [],
   "source": [
    "class Node:\n",
    "    def __init__(self,data = None):\n",
    "        self.data = data\n",
    "        self.left = left\n",
    "        self.right = right\n",
    "        \n",
    "class BST:\n",
    "    def __init__(self):\n",
    "        self.root = None\n",
    "        \n",
    "    def insert(self,data):\n",
    "        if self.root is None:\n",
    "            self.root = Node(data)\n",
    "        else:\n",
    "            self._insert(data,self.root)\n",
    "            \n",
    "    def _insert(self,data,cur_node):\n",
    "        if data < cur_node.data:\n",
    "            if not cur_node.left:\n",
    "                node = Node(data)\n",
    "            else:\n",
    "                self._insert(data,cur_node.left)\n",
    "        elif data > cur_node.data:\n",
    "            if not cur_node.right:\n",
    "                node = Node(data)\n",
    "            else:\n",
    "                self._insert(data,cur_node.right)\n",
    "        else:\n",
    "            print('The value is present in the tree.')\n",
    "            \n",
    "    def find(self,data):\n",
    "        if self.root:\n",
    "            is_found = self._find(data,self.root)\n",
    "            if is_found:\n",
    "                return True\n",
    "            return False\n",
    "        else:\n",
    "            return None\n",
    "        \n",
    "    def _find(self,data,cur_node):\n",
    "        if data < cur_node.data and cur_node.left:\n",
    "            return self._find(data,cur_node.left)\n",
    "        elif data > cur_node.data and cur_node.right:\n",
    "            return self._find(data,cur_node.right)\n",
    "        if data == cur_node.data:\n",
    "            return True\n",
    "        \n",
    "    def inorder(self):\n",
    "        if self.root:\n",
    "            self._inorder(self.root)\n",
    "            \n",
    "    def _inorder(self,cur_node):\n",
    "        if cur_node:\n",
    "            self._inorder(cur_node.left)\n",
    "            print(str(cur_node.data))\n",
    "            self._inorder(cur_node.right)\n",
    "            \n",
    "    def is_bst_satisfied(self):\n",
    "        if self.root:\n",
    "            is_satisfied = self._is_bst_satisfied(self.root,self.root.data)\n",
    "            if is_satisfied is None:\n",
    "                return True\n",
    "            return False\n",
    "        else:\n",
    "            return True\n",
    "        \n",
    "    def _is_bst_satisfied(self,cur_node,data):\n",
    "        if cur_node.left:\n",
    "            if data > cur_node.left.data:\n",
    "                return self._is_bst_satisfied(cur_node.left,cur_node.left.data)\n",
    "            else:\n",
    "                return False\n",
    "        if cur_node.right:\n",
    "            if data <cur_node.right.data:\n",
    "                return self._is_bst_satisfied(cur_node.right,cur_node.right.data)\n",
    "            else:\n",
    "                return False"
   ]
  },
  {
   "cell_type": "code",
   "execution_count": 1,
   "metadata": {},
   "outputs": [],
   "source": [
    "class NeighborNode:\n",
    "    def __init__(self,neightbor_number):\n",
    "        self.vertex_number = neighbor_number\n",
    "        self.next = None\n",
    "        \n",
    "class Vertex:\n",
    "    def __init__(self):\n",
    "        self.next = None\n",
    "        \n",
    "    def insert_neighbor(self,nvn):\n",
    "        self.next,self.next.next = NeighborNode(nvn),self.next\n",
    "        \n",
    "    def get_neighbors(self):\n",
    "        neighbors = []\n",
    "        while self.next:\n",
    "            neighbors.append(self.next.vertex_number)\n",
    "            self = self.next\n",
    "        return neighbors\n",
    "    \n",
    "    def get_neighbors_sublist(self,skip_list):\n",
    "        neighbors = []\n",
    "        while self.next:\n",
    "            if self.next.vertex_number not in skip_list:\n",
    "                neighbors.append(self.next.vertex_number)\n",
    "            self = self.next\n",
    "        return neighbors\n",
    "            "
   ]
  },
  {
   "cell_type": "code",
   "execution_count": 5,
   "metadata": {},
   "outputs": [],
   "source": [
    "\n",
    "class GraphAL:\n",
    "    def __init__(self,name = \"\",fname = None):\n",
    "        self.name = name\n",
    "        self.adjacency_list = []\n",
    "        if fname:\n",
    "            with open(fname,'r') as fp:\n",
    "                for i,line in enumerate(fp):\n",
    "                    self.adjacency_list.append(Vertex())\n",
    "                    neighbors = line.split()\n",
    "                    for n in neighbors:\n",
    "                        self.adjacency_list[i].insert_neighbor(int(n))\n",
    "                        \n",
    "    def __repr__(self):\n",
    "        name = self.name if self.name else 'Unnamed'\n",
    "        header = '-' * 10 + name + '-' * 10\n",
    "        text = header + '\\n'\n",
    "        for i,v in enumerate(self.adjacency_list):\n",
    "            text += ((str(i) + ':').ljust(5) + repr(self.adjacency_list[i].get_neighbors() + '\\n'))\n",
    "        text += '-' * len(header) + '\\n'\n",
    "        return text\n",
    "    \n",
    "    def bfs_connected(self, start_vertex_number):\n",
    "        order = len(self.adjacency_list)\n",
    "        visited = np.full(order,False)\n",
    "        visited[start_vertex_number] = True\n",
    "        order_visited = [start_vertex_number]\n",
    "        q = Queue()\n",
    "        q.enqueue(start_vertex_number)\n",
    "        while not q.is_empty():\n",
    "            vertex = self.adjacency_lists[q.dequeue()]\n",
    "            while vertex.next:\n",
    "                vertex = vertex.next()\n",
    "                if not visited[vertex.vertex_number()]:\n",
    "                    visited[vertex.vertex_number] = True\n",
    "                    order_visited.append(vertex.vertex_number)\n",
    "                    q.enqueue(vertex.vertex_number)\n",
    "        return order_visited\n",
    "    \n",
    "    def dfs(start,start_vertex_number):\n",
    "        order = len(self.adjacency_list)\n",
    "        visited = np.full(order,False)\n",
    "        visited[start_vertex_number] = True\n",
    "        s = Stack()\n",
    "        s.push(start_vertex_number)\n",
    "        \n",
    "        while not s.is_empty():\n",
    "            vertex = self.get_adjacent_unvisited(s.peek(),visited)\n",
    "            if vertex is not None:\n",
    "                visited[vertex] = None\n",
    "                order_visited.append(vertex)\n",
    "                s.push(vertex)\n",
    "            else:\n",
    "                s.pop()\n",
    "        return order_visited\n",
    "    \n",
    "    def bfs_shortest_path(self,start,end):\n",
    "        if start == end:\n",
    "            return [start]\n",
    "        paths = [[start]]\n",
    "        \n",
    "        while True:\n",
    "            new_paths = []\n",
    "            for path in paths:\n",
    "                last_vertex = path[-1]\n",
    "                for n in self.adjacency_list[last_vertex].get_neighbors_sublist(path):\n",
    "                    if n == end:\n",
    "                        return path  + [n]\n",
    "                    new_paths.append(path + [n])\n",
    "            if not len(new_paths):\n",
    "                return []\n",
    "            paths = new_paths     \n",
    "        \n",
    "        \n",
    "        \n",
    "        "
   ]
  },
  {
   "cell_type": "code",
   "execution_count": 2,
   "metadata": {},
   "outputs": [],
   "source": [
    "class Stack:\n",
    "    def __init__(self):\n",
    "        self.items = []\n",
    "        \n",
    "    def push(self,item):\n",
    "        self.items.append(item)\n",
    "        \n",
    "    def pop(self):\n",
    "        if self.is_empty():\n",
    "            return \"This is an empty stack\"\n",
    "        return self.items.pop()\n",
    "    \n",
    "    def is_empty(self):\n",
    "        return self.items == []\n",
    "    \n",
    "    def __len__(self):\n",
    "        return len(self.items)"
   ]
  },
  {
   "cell_type": "code",
   "execution_count": 8,
   "metadata": {},
   "outputs": [],
   "source": [
    "class Node:\n",
    "    def __init__(self,value):\n",
    "        self.datum = value\n",
    "        self.left = None\n",
    "        self.right = None\n",
    "        \n",
    "class BinaryTree:\n",
    "    def __init__(self):\n",
    "        self.root = None\n",
    "        \n",
    "    def insert(self,item):\n",
    "        if not self.root:\n",
    "            self.head = Node(item)\n",
    "        else:\n",
    "            return self._insert(self,self.root,item)\n",
    "        \n",
    "    def _insert(self,cur_node,item):\n",
    "        if cur_node.datum < item:\n",
    "            if not cur_node.left:\n",
    "                cur_node.left = Node(item)\n",
    "            else:\n",
    "                self._insert(cur_node.left,item)\n",
    "        elif cur_node.datum > item:\n",
    "            if not cur_node.right:\n",
    "                cur_node.right = Node(item)\n",
    "            else:\n",
    "                self._insert(cur_node.right,item)\n",
    "        else:\n",
    "            return \"The value is present in the tree.\"\n",
    "        \n",
    "    def find(self,item):\n",
    "        if not self.root:\n",
    "            return \"This is an empty tree\"\n",
    "        else:\n",
    "            self._find(self.root,item)\n",
    "        return False\n",
    "            \n",
    "    def _find(self,cur_node,item):\n",
    "        if cur_node.datum < item and cur_node.left:\n",
    "            self._find(cur_node.left,item)\n",
    "        elif cur_node.datum > item and cur_node.right:\n",
    "            self._find(cur_node.right,item)\n",
    "        if data == cur_node.datum:\n",
    "            return True"
   ]
  },
  {
   "cell_type": "code",
   "execution_count": 14,
   "metadata": {},
   "outputs": [],
   "source": [
    "def check(item):\n",
    "    try:\n",
    "        if int(item):\n",
    "            return \"This is an integer\"\n",
    "    except:\n",
    "        print(\"This is not an integer\")\n",
    "    finally:\n",
    "        print(\"Just testing\")"
   ]
  },
  {
   "cell_type": "code",
   "execution_count": 16,
   "metadata": {},
   "outputs": [
    {
     "name": "stdout",
     "output_type": "stream",
     "text": [
      "This is not an integer\n",
      "Just testing\n"
     ]
    }
   ],
   "source": [
    "check('alpha')"
   ]
  },
  {
   "cell_type": "code",
   "execution_count": null,
   "metadata": {},
   "outputs": [],
   "source": []
  },
  {
   "cell_type": "code",
   "execution_count": null,
   "metadata": {},
   "outputs": [],
   "source": []
  },
  {
   "cell_type": "code",
   "execution_count": null,
   "metadata": {},
   "outputs": [],
   "source": []
  },
  {
   "cell_type": "code",
   "execution_count": null,
   "metadata": {},
   "outputs": [],
   "source": []
  },
  {
   "cell_type": "code",
   "execution_count": null,
   "metadata": {},
   "outputs": [],
   "source": []
  },
  {
   "cell_type": "code",
   "execution_count": null,
   "metadata": {},
   "outputs": [],
   "source": []
  },
  {
   "cell_type": "code",
   "execution_count": null,
   "metadata": {},
   "outputs": [],
   "source": []
  },
  {
   "cell_type": "code",
   "execution_count": null,
   "metadata": {},
   "outputs": [],
   "source": []
  },
  {
   "cell_type": "code",
   "execution_count": null,
   "metadata": {},
   "outputs": [],
   "source": []
  }
 ],
 "metadata": {
  "kernelspec": {
   "display_name": "Python 3",
   "language": "python",
   "name": "python3"
  },
  "language_info": {
   "codemirror_mode": {
    "name": "ipython",
    "version": 3
   },
   "file_extension": ".py",
   "mimetype": "text/x-python",
   "name": "python",
   "nbconvert_exporter": "python",
   "pygments_lexer": "ipython3",
   "version": "3.7.4"
  }
 },
 "nbformat": 4,
 "nbformat_minor": 4
}
